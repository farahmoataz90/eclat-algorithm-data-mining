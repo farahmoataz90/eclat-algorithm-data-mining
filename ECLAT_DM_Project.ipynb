{
  "nbformat": 4,
  "nbformat_minor": 0,
  "metadata": {
    "colab": {
      "provenance": []
    },
    "kernelspec": {
      "name": "python3",
      "display_name": "Python 3"
    },
    "language_info": {
      "name": "python"
    }
  },
  "cells": [
    {
      "cell_type": "code",
      "source": [
        "# Block 1: Import necessary libraries\n",
        "import pandas as pd\n",
        "from mlxtend.preprocessing import TransactionEncoder\n",
        "import matplotlib.pyplot as plt\n",
        "import seaborn as sns\n",
        "from itertools import combinations"
      ],
      "metadata": {
        "id": "SAkakQ0S_vvB"
      },
      "execution_count": null,
      "outputs": []
    },
    {
      "cell_type": "code",
      "source": [
        "# Block 2: Read data from Excel file\n",
        "data_format = pd.read_excel(\"/content/H_Format.xlsx\")"
      ],
      "metadata": {
        "id": "e_WxB3Wb_xOf"
      },
      "execution_count": null,
      "outputs": []
    },
    {
      "cell_type": "code",
      "source": [
        "# Block 3: Check if data is in horizontal format, if yes, convert to vertical format\n",
        "\n",
        "# Check if the first column is named \"TID\"\n",
        "if data_format.columns[0] == \"TID\":\n",
        "    if data_format['items'].str.contains(',').any():\n",
        "        # Split the 'items' column into a list of items\n",
        "        data_format['items'] = data_format['items'].apply(lambda x: x.split(','))\n",
        "\n",
        "        # Create an empty DataFrame with columns 'Item name' and 'Transactions'\n",
        "        result_data = pd.DataFrame(columns=['Item name', 'Transactions'])\n",
        "\n",
        "        # Iterate through each row and update the new DataFrame\n",
        "        for index, row in data_format.iterrows():\n",
        "            for item in row['items']:\n",
        "                if not (result_data['Item name'] == item).any():\n",
        "                    result_data = pd.concat([result_data, pd.DataFrame({'Item name': [item], 'Transactions': [set()]})], ignore_index=True)\n",
        "                # Split transactions and convert to a set\n",
        "                transactions = set(map(str.strip, str(row['TID']).split(',')))\n",
        "                result_data.loc[result_data['Item name'] == item, 'Transactions'] = result_data.loc[result_data['Item name'] == item, 'Transactions'].values[0].union(transactions)\n",
        "\n",
        "else:\n",
        "    print(\"The data is already in vertical format\")\n",
        "\n",
        "    # Create an empty DataFrame with columns 'Item name' and 'Transactions'\n",
        "    result_data = pd.DataFrame(columns=['Item name', 'Transactions'])\n",
        "\n",
        "    # Iterate through each row and update the new DataFrame\n",
        "    for index, row in data_format.iterrows():\n",
        "        # Split transactions and convert to a set\n",
        "        transactions = set(map(str.strip, str(row['TID_set']).split(',')))\n",
        "        result_data = pd.concat([result_data, pd.DataFrame({'Item name': [row['itemset']], 'Transactions': [transactions]})], ignore_index=True)\n",
        "\n"
      ],
      "metadata": {
        "id": "CB49vir8_yo_"
      },
      "execution_count": null,
      "outputs": []
    },
    {
      "cell_type": "code",
      "source": [
        "# Block 4: Print the result_data DataFrame\n",
        "print(result_data)\n"
      ],
      "metadata": {
        "colab": {
          "base_uri": "https://localhost:8080/"
        },
        "id": "mD4s8TBU_0Sw",
        "outputId": "4ce1686c-cc42-45ed-81dd-e61da7f284a5"
      },
      "execution_count": null,
      "outputs": [
        {
          "output_type": "stream",
          "name": "stdout",
          "text": [
            "   Item name     Transactions\n",
            "0          M        {3, 4, 1}\n",
            "1          O        {5, 2, 1}\n",
            "2          N           {2, 1}\n",
            "3          K  {4, 3, 5, 2, 1}\n",
            "4          E     {3, 5, 2, 1}\n",
            "5          Y        {2, 4, 1}\n",
            "6          D              {2}\n",
            "7          A              {3}\n",
            "8          U              {4}\n",
            "9          C           {5, 4}\n",
            "10         I              {5}\n"
          ]
        }
      ]
    },
    {
      "cell_type": "code",
      "source": [
        "# Block 5: Use TransactionEncoder to create a binary table\n",
        "te = TransactionEncoder()\n",
        "binary_table = te.fit_transform(result_data['Transactions'])\n",
        "binary_df = pd.DataFrame(binary_table, columns=te.columns_)\n",
        "\n",
        "# Add Item name column to the binary table\n",
        "binary_df.insert(0, 'Item name', result_data['Item name'])\n",
        "\n",
        "# Print the binary_df DataFrame\n",
        "print(binary_df)\n"
      ],
      "metadata": {
        "colab": {
          "base_uri": "https://localhost:8080/"
        },
        "id": "eqXFvW4a_2Dn",
        "outputId": "b96beb29-5a9f-4a31-a3ce-243016f7c032"
      },
      "execution_count": null,
      "outputs": [
        {
          "output_type": "stream",
          "name": "stdout",
          "text": [
            "   Item name      1      2      3      4      5\n",
            "0          M   True  False   True   True  False\n",
            "1          O   True   True  False  False   True\n",
            "2          N   True   True  False  False  False\n",
            "3          K   True   True   True   True   True\n",
            "4          E   True   True   True  False   True\n",
            "5          Y   True   True  False   True  False\n",
            "6          D  False   True  False  False  False\n",
            "7          A  False  False   True  False  False\n",
            "8          U  False  False  False   True  False\n",
            "9          C  False  False  False   True   True\n",
            "10         I  False  False  False  False   True\n"
          ]
        }
      ]
    },
    {
      "cell_type": "code",
      "source": [
        "# Block 6: Set the minimum support and confidence thresholds\n",
        "#min_support = 3\n",
        "min_support = float (input(\"min_support\"))\n",
        "#min_confidence = 0.5\n",
        "min_confidence = float (input(\"min_confidence\"))"
      ],
      "metadata": {
        "id": "B5CF8bO0_3hN",
        "colab": {
          "base_uri": "https://localhost:8080/"
        },
        "outputId": "ea60a528-62fb-4877-fd79-ec2a8c2b9f12"
      },
      "execution_count": null,
      "outputs": [
        {
          "name": "stdout",
          "output_type": "stream",
          "text": [
            "min_support3\n",
            "min_confidence0.5\n"
          ]
        }
      ]
    },
    {
      "cell_type": "code",
      "source": [
        "# Block 7: Initialize a dictionary to store the support of each item\n",
        "item_support = {}\n"
      ],
      "metadata": {
        "id": "65Vn0tCw_58T"
      },
      "execution_count": null,
      "outputs": []
    },
    {
      "cell_type": "code",
      "source": [
        "# Block 8: Iterate through each row in result_data and calculate support for each item\n",
        "for index, row in result_data.iterrows():\n",
        "    item_name = row['Item name']\n",
        "    transactions = row['Transactions']\n",
        "\n",
        "    # Calculate support for each item\n",
        "    support = len(transactions)\n",
        "\n",
        "    # Store the support in the dictionary\n",
        "    item_support[item_name] = support\n",
        "\n",
        "# Print the support for each item\n",
        "print(\"Item Support:\")\n",
        "for item, support in item_support.items():\n",
        "    print(f\"{item}: {support}\")\n"
      ],
      "metadata": {
        "id": "K6n6TJW0_7l5",
        "colab": {
          "base_uri": "https://localhost:8080/"
        },
        "outputId": "0e39129e-803f-4a53-e848-fcd572e99b9c"
      },
      "execution_count": null,
      "outputs": [
        {
          "output_type": "stream",
          "name": "stdout",
          "text": [
            "Item Support:\n",
            "M: 3\n",
            "O: 3\n",
            "N: 2\n",
            "K: 5\n",
            "E: 4\n",
            "Y: 3\n",
            "D: 1\n",
            "A: 1\n",
            "U: 1\n",
            "C: 2\n",
            "I: 1\n"
          ]
        }
      ]
    },
    {
      "cell_type": "code",
      "source": [
        "# Block 9: Initialize a list to store frequent item sets\n",
        "frequent_item_sets = []\n"
      ],
      "metadata": {
        "id": "5HC_Mrfh_9TJ"
      },
      "execution_count": null,
      "outputs": []
    },
    {
      "cell_type": "code",
      "source": [
        "# Block 10: Find frequent item sets with support >= min_support\n",
        "for level in range(1, len(result_data['Item name']) + 1):\n",
        "    for item_set in combinations(result_data['Item name'], level):\n",
        "        item_set_transactions = set.intersection(*[set(result_data.loc[result_data['Item name'] == item, 'Transactions'].values[0]) for item in item_set])\n",
        "        support = len(item_set_transactions)\n",
        "\n",
        "        # Check if the support is greater than or equal to min_support\n",
        "        if support >= min_support:\n",
        "            frequent_item_sets.append({\n",
        "                'Item Set': set(item_set),  # Represent all item sets as sets\n",
        "                'Support': support\n",
        "            })\n"
      ],
      "metadata": {
        "id": "rPmDyNzj_-3Z"
      },
      "execution_count": null,
      "outputs": []
    },
    {
      "cell_type": "code",
      "source": [
        "# Block 11: Print the frequent item sets, their support, and the level\n",
        "print(\"Frequent Item Sets:\")\n",
        "current_level = None\n",
        "\n",
        "for item_set in frequent_item_sets:\n",
        "    level = len(item_set['Item Set'])  # Level is the length of the item set\n",
        "\n",
        "    # Print the level header if it's a new level\n",
        "    if level != current_level:\n",
        "        print(f\"\\nLevel {level}:\")\n",
        "\n",
        "    print(f\"Item Set: {item_set['Item Set']}, Support: {item_set['Support']}\")\n",
        "\n",
        "    # Update the current level\n",
        "    current_level = level\n"
      ],
      "metadata": {
        "id": "hkWCMYIKABeG",
        "colab": {
          "base_uri": "https://localhost:8080/"
        },
        "outputId": "14fd97f2-641d-4f22-b3f4-994db777d55f"
      },
      "execution_count": null,
      "outputs": [
        {
          "output_type": "stream",
          "name": "stdout",
          "text": [
            "Frequent Item Sets:\n",
            "\n",
            "Level 1:\n",
            "Item Set: {'M'}, Support: 3\n",
            "Item Set: {'O'}, Support: 3\n",
            "Item Set: {'K'}, Support: 5\n",
            "Item Set: {'E'}, Support: 4\n",
            "Item Set: {'Y'}, Support: 3\n",
            "\n",
            "Level 2:\n",
            "Item Set: {'M', 'K'}, Support: 3\n",
            "Item Set: {'K', 'O'}, Support: 3\n",
            "Item Set: {'E', 'O'}, Support: 3\n",
            "Item Set: {'K', 'E'}, Support: 4\n",
            "Item Set: {'K', 'Y'}, Support: 3\n",
            "\n",
            "Level 3:\n",
            "Item Set: {'E', 'K', 'O'}, Support: 3\n"
          ]
        }
      ]
    },
    {
      "cell_type": "code",
      "source": [
        "# Block 12: Generate all possible association rules\n",
        "all_association_rules = []\n",
        "for item_set in frequent_item_sets:\n",
        "    items = item_set['Item Set']\n",
        "    num_items = len(items)\n",
        "\n",
        "    # Generate all possible combinations of antecedent and consequent\n",
        "    for i in range(1, num_items):\n",
        "        for antecedent in combinations(items, i):\n",
        "            antecedent = set(antecedent)\n",
        "            consequent = set(items) - antecedent\n",
        "\n",
        "            # Add the rule\n",
        "            all_association_rules.append({\n",
        "                'Antecedent': antecedent,\n",
        "                'Consequent': consequent,\n",
        "                'Support': item_set['Support'],\n",
        "                'Confidence': None,\n",
        "                'Rule Type': None,\n",
        "                'Lift': None,\n",
        "                'Lift Type': None\n",
        "            })"
      ],
      "metadata": {
        "id": "X_WDt1-bACUi"
      },
      "execution_count": null,
      "outputs": []
    },
    {
      "cell_type": "code",
      "source": [
        "# Block 13: Calculate confidence for all possible association rules\n",
        "for rule in all_association_rules:\n",
        "    antecedent_set = rule['Antecedent']\n",
        "\n",
        "    # Find the support for the antecedent in frequent_item_sets\n",
        "    antecedent_support = next(item_set['Support'] for item_set in frequent_item_sets if item_set['Item Set'] == antecedent_set)\n",
        "\n",
        "    rule['Confidence'] = rule['Support'] / antecedent_support\n",
        "\n",
        "    # Check if confidence is greater than or equal to min_confidence\n",
        "    if rule['Confidence'] >= min_confidence:\n",
        "        rule['Rule Type'] = \"strong\"\n",
        "    else:\n",
        "        rule['Rule Type'] = \"weak\"\n"
      ],
      "metadata": {
        "id": "vOKy64ASAEOI"
      },
      "execution_count": null,
      "outputs": []
    },
    {
      "cell_type": "code",
      "source": [
        "# Block 14: Calculate lift for all possible association rules\n",
        "for rule in all_association_rules:\n",
        "    antecedent_set = rule['Antecedent']\n",
        "    consequent_set = rule['Consequent']\n",
        "\n",
        "    # Find the support for the antecedent and consequent in frequent_item_sets\n",
        "    antecedent_support = next(item_set['Support'] for item_set in frequent_item_sets if item_set['Item Set'] == antecedent_set)\n",
        "    consequent_support = next(item_set['Support'] for item_set in frequent_item_sets if item_set['Item Set'] == consequent_set)\n",
        "\n",
        "    # Calculate lift using the formula: support_both / (support_antecedent * support_consequent)\n",
        "    rule['Lift'] = rule['Support'] / (antecedent_support * consequent_support)\n",
        "\n",
        "    # Determine the lift type based on the lift value\n",
        "    if rule['Lift'] > 1:\n",
        "        rule['Lift Type'] = \"dependent, + correlated\"\n",
        "    elif rule['Lift'] < 1:\n",
        "        rule['Lift Type'] = \"dependent, - correlated\"\n",
        "    else:\n",
        "        rule['Lift Type'] = \"Independent\"\n"
      ],
      "metadata": {
        "id": "5-xu_KYv1FC5"
      },
      "execution_count": null,
      "outputs": []
    },
    {
      "cell_type": "code",
      "source": [
        "# Block 15: Print all possible association rules\n",
        "print(\"\\nAll Possible Association Rules:\")\n",
        "for rule in all_association_rules:\n",
        "    print(f\"{rule['Antecedent']} -> {rule['Consequent']}\")\n"
      ],
      "metadata": {
        "colab": {
          "base_uri": "https://localhost:8080/"
        },
        "id": "9yJdlpw63qqa",
        "outputId": "7a0cd595-215c-4650-8d6f-f254c003087c"
      },
      "execution_count": null,
      "outputs": [
        {
          "output_type": "stream",
          "name": "stdout",
          "text": [
            "\n",
            "All Possible Association Rules:\n",
            "{'M'} -> {'K'}\n",
            "{'K'} -> {'M'}\n",
            "{'K'} -> {'O'}\n",
            "{'O'} -> {'K'}\n",
            "{'E'} -> {'O'}\n",
            "{'O'} -> {'E'}\n",
            "{'K'} -> {'E'}\n",
            "{'E'} -> {'K'}\n",
            "{'K'} -> {'Y'}\n",
            "{'Y'} -> {'K'}\n",
            "{'E'} -> {'K', 'O'}\n",
            "{'K'} -> {'O', 'E'}\n",
            "{'O'} -> {'K', 'E'}\n",
            "{'K', 'E'} -> {'O'}\n",
            "{'O', 'E'} -> {'K'}\n",
            "{'K', 'O'} -> {'E'}\n"
          ]
        }
      ]
    },
    {
      "cell_type": "code",
      "source": [
        "# Block 16: Print all possible association rules with confidence type\n",
        "print(\"\\nAll Possible Association Rules with Confidence Types:\")\n",
        "for rule in all_association_rules:\n",
        "    print(f\"{rule['Antecedent']} -> {rule['Consequent']}: Confidence={rule['Confidence']}, Type={rule['Rule Type']}\")\n"
      ],
      "metadata": {
        "id": "wQFF33h6AG96",
        "colab": {
          "base_uri": "https://localhost:8080/"
        },
        "outputId": "3d39987e-0088-4ed3-d317-7bf0158cc98e"
      },
      "execution_count": null,
      "outputs": [
        {
          "output_type": "stream",
          "name": "stdout",
          "text": [
            "\n",
            "All Possible Association Rules with Confidence Types:\n",
            "{'M'} -> {'K'}: Confidence=1.0, Type=strong\n",
            "{'K'} -> {'M'}: Confidence=0.6, Type=strong\n",
            "{'K'} -> {'O'}: Confidence=0.6, Type=strong\n",
            "{'O'} -> {'K'}: Confidence=1.0, Type=strong\n",
            "{'E'} -> {'O'}: Confidence=0.75, Type=strong\n",
            "{'O'} -> {'E'}: Confidence=1.0, Type=strong\n",
            "{'K'} -> {'E'}: Confidence=0.8, Type=strong\n",
            "{'E'} -> {'K'}: Confidence=1.0, Type=strong\n",
            "{'K'} -> {'Y'}: Confidence=0.6, Type=strong\n",
            "{'Y'} -> {'K'}: Confidence=1.0, Type=strong\n",
            "{'E'} -> {'K', 'O'}: Confidence=0.75, Type=strong\n",
            "{'K'} -> {'O', 'E'}: Confidence=0.6, Type=strong\n",
            "{'O'} -> {'K', 'E'}: Confidence=1.0, Type=strong\n",
            "{'K', 'E'} -> {'O'}: Confidence=0.75, Type=strong\n",
            "{'O', 'E'} -> {'K'}: Confidence=1.0, Type=strong\n",
            "{'K', 'O'} -> {'E'}: Confidence=1.0, Type=strong\n"
          ]
        }
      ]
    },
    {
      "cell_type": "code",
      "source": [
        "# Block 17: Extract strong rules\n",
        "strong_rules = [rule for rule in all_association_rules if rule['Rule Type'] == 'strong']\n"
      ],
      "metadata": {
        "id": "hIXTElsRAH80"
      },
      "execution_count": null,
      "outputs": []
    },
    {
      "cell_type": "code",
      "source": [
        "# Block 18: Print strong association rules\n",
        "print(\"\\nStrong Association Rules:\")\n",
        "for rule in strong_rules:\n",
        "    print(f\"{rule['Antecedent']} -> {rule['Consequent']}: Confidence={rule['Confidence']}, Type={rule['Rule Type']}\")\n"
      ],
      "metadata": {
        "colab": {
          "base_uri": "https://localhost:8080/"
        },
        "id": "MvNmCkW34gyI",
        "outputId": "fb192333-bc7d-433d-fda5-3f732c582c76"
      },
      "execution_count": null,
      "outputs": [
        {
          "output_type": "stream",
          "name": "stdout",
          "text": [
            "\n",
            "Strong Association Rules:\n",
            "{'M'} -> {'K'}: Confidence=1.0, Type=strong\n",
            "{'K'} -> {'M'}: Confidence=0.6, Type=strong\n",
            "{'K'} -> {'O'}: Confidence=0.6, Type=strong\n",
            "{'O'} -> {'K'}: Confidence=1.0, Type=strong\n",
            "{'E'} -> {'O'}: Confidence=0.75, Type=strong\n",
            "{'O'} -> {'E'}: Confidence=1.0, Type=strong\n",
            "{'K'} -> {'E'}: Confidence=0.8, Type=strong\n",
            "{'E'} -> {'K'}: Confidence=1.0, Type=strong\n",
            "{'K'} -> {'Y'}: Confidence=0.6, Type=strong\n",
            "{'Y'} -> {'K'}: Confidence=1.0, Type=strong\n",
            "{'E'} -> {'K', 'O'}: Confidence=0.75, Type=strong\n",
            "{'K'} -> {'O', 'E'}: Confidence=0.6, Type=strong\n",
            "{'O'} -> {'K', 'E'}: Confidence=1.0, Type=strong\n",
            "{'K', 'E'} -> {'O'}: Confidence=0.75, Type=strong\n",
            "{'O', 'E'} -> {'K'}: Confidence=1.0, Type=strong\n",
            "{'K', 'O'} -> {'E'}: Confidence=1.0, Type=strong\n"
          ]
        }
      ]
    },
    {
      "cell_type": "code",
      "source": [
        "# Block 19: Print unique association rules with lift type\n",
        "print(\"\\nUnique Association Rules with Lift Types:\")\n",
        "unique_rules = set()\n",
        "\n",
        "for rule in all_association_rules:\n",
        "    antecedent = set(rule['Antecedent'])\n",
        "    consequent = set(rule['Consequent'])\n",
        "    lift_type = rule['Lift Type']\n",
        "\n",
        "    # Check if the rule is unique (not already encountered)\n",
        "    if (frozenset(antecedent), frozenset(consequent), lift_type) not in unique_rules and (frozenset(consequent), frozenset(antecedent), lift_type) not in unique_rules:\n",
        "        unique_rules.add((frozenset(antecedent), frozenset(consequent), lift_type))\n",
        "        print(f\"{set(antecedent)} -> {set(consequent)}: Lift={rule['Lift']}, Lift Type={lift_type}\")\n"
      ],
      "metadata": {
        "colab": {
          "base_uri": "https://localhost:8080/"
        },
        "id": "w9i9odoNCDfx",
        "outputId": "02970b61-b88f-400c-b883-9a0ab1dca306"
      },
      "execution_count": null,
      "outputs": [
        {
          "output_type": "stream",
          "name": "stdout",
          "text": [
            "\n",
            "Unique Association Rules with Lift Types:\n",
            "{'M'} -> {'K'}: Lift=0.2, Lift Type=dependent, - correlated\n",
            "{'K'} -> {'O'}: Lift=0.2, Lift Type=dependent, - correlated\n",
            "{'E'} -> {'O'}: Lift=0.25, Lift Type=dependent, - correlated\n",
            "{'K'} -> {'E'}: Lift=0.2, Lift Type=dependent, - correlated\n",
            "{'K'} -> {'Y'}: Lift=0.2, Lift Type=dependent, - correlated\n",
            "{'E'} -> {'K', 'O'}: Lift=0.25, Lift Type=dependent, - correlated\n",
            "{'K'} -> {'O', 'E'}: Lift=0.2, Lift Type=dependent, - correlated\n",
            "{'O'} -> {'K', 'E'}: Lift=0.25, Lift Type=dependent, - correlated\n"
          ]
        }
      ]
    },
    {
      "cell_type": "code",
      "source": [
        "# Block 20: Convert Frequent Item Sets to DataFrame for display\n",
        "frequent_item_sets_df = pd.DataFrame(columns=['Item Set', 'Support'])\n",
        "\n",
        "for item_set in frequent_item_sets:\n",
        "    frequent_item_sets_df = pd.concat([frequent_item_sets_df, pd.DataFrame({\n",
        "        'Item Set': [item_set['Item Set']],\n",
        "        'Support': [item_set['Support']]\n",
        "    })], ignore_index=True)\n"
      ],
      "metadata": {
        "id": "8rYQFNiSAM6b"
      },
      "execution_count": null,
      "outputs": []
    },
    {
      "cell_type": "code",
      "source": [
        "# Block 21: Display Frequent Item Sets\n",
        "def highlight_max(s):\n",
        "    is_max = s == s.max()\n",
        "    return ['background-color: lightblue' if v else '' for v in is_max]\n",
        "\n",
        "\n",
        "styled_df = frequent_item_sets_df.style.background_gradient(subset=['Support'], cmap='Blues').apply(highlight_max)\n",
        "styled_df\n"
      ],
      "metadata": {
        "colab": {
          "base_uri": "https://localhost:8080/",
          "height": 394
        },
        "id": "Lo_r9ms-2wU2",
        "outputId": "4e0e59e4-47a3-42df-f7bf-d603285e8601"
      },
      "execution_count": null,
      "outputs": [
        {
          "output_type": "execute_result",
          "data": {
            "text/plain": [
              "<pandas.io.formats.style.Styler at 0x7b1737c8bc40>"
            ],
            "text/html": [
              "<style type=\"text/css\">\n",
              "#T_d8aad_row0_col1, #T_d8aad_row1_col1, #T_d8aad_row4_col1, #T_d8aad_row5_col1, #T_d8aad_row6_col1, #T_d8aad_row7_col1, #T_d8aad_row9_col1, #T_d8aad_row10_col1 {\n",
              "  background-color: #f7fbff;\n",
              "  color: #000000;\n",
              "}\n",
              "#T_d8aad_row2_col1 {\n",
              "  background-color: #08306b;\n",
              "  color: #f1f1f1;\n",
              "  background-color: lightblue;\n",
              "}\n",
              "#T_d8aad_row3_col1, #T_d8aad_row8_col1 {\n",
              "  background-color: #6aaed6;\n",
              "  color: #f1f1f1;\n",
              "}\n",
              "#T_d8aad_row10_col0 {\n",
              "  background-color: lightblue;\n",
              "}\n",
              "</style>\n",
              "<table id=\"T_d8aad\" class=\"dataframe\">\n",
              "  <thead>\n",
              "    <tr>\n",
              "      <th class=\"blank level0\" >&nbsp;</th>\n",
              "      <th id=\"T_d8aad_level0_col0\" class=\"col_heading level0 col0\" >Item Set</th>\n",
              "      <th id=\"T_d8aad_level0_col1\" class=\"col_heading level0 col1\" >Support</th>\n",
              "    </tr>\n",
              "  </thead>\n",
              "  <tbody>\n",
              "    <tr>\n",
              "      <th id=\"T_d8aad_level0_row0\" class=\"row_heading level0 row0\" >0</th>\n",
              "      <td id=\"T_d8aad_row0_col0\" class=\"data row0 col0\" >{'M'}</td>\n",
              "      <td id=\"T_d8aad_row0_col1\" class=\"data row0 col1\" >3</td>\n",
              "    </tr>\n",
              "    <tr>\n",
              "      <th id=\"T_d8aad_level0_row1\" class=\"row_heading level0 row1\" >1</th>\n",
              "      <td id=\"T_d8aad_row1_col0\" class=\"data row1 col0\" >{'O'}</td>\n",
              "      <td id=\"T_d8aad_row1_col1\" class=\"data row1 col1\" >3</td>\n",
              "    </tr>\n",
              "    <tr>\n",
              "      <th id=\"T_d8aad_level0_row2\" class=\"row_heading level0 row2\" >2</th>\n",
              "      <td id=\"T_d8aad_row2_col0\" class=\"data row2 col0\" >{'K'}</td>\n",
              "      <td id=\"T_d8aad_row2_col1\" class=\"data row2 col1\" >5</td>\n",
              "    </tr>\n",
              "    <tr>\n",
              "      <th id=\"T_d8aad_level0_row3\" class=\"row_heading level0 row3\" >3</th>\n",
              "      <td id=\"T_d8aad_row3_col0\" class=\"data row3 col0\" >{'E'}</td>\n",
              "      <td id=\"T_d8aad_row3_col1\" class=\"data row3 col1\" >4</td>\n",
              "    </tr>\n",
              "    <tr>\n",
              "      <th id=\"T_d8aad_level0_row4\" class=\"row_heading level0 row4\" >4</th>\n",
              "      <td id=\"T_d8aad_row4_col0\" class=\"data row4 col0\" >{'Y'}</td>\n",
              "      <td id=\"T_d8aad_row4_col1\" class=\"data row4 col1\" >3</td>\n",
              "    </tr>\n",
              "    <tr>\n",
              "      <th id=\"T_d8aad_level0_row5\" class=\"row_heading level0 row5\" >5</th>\n",
              "      <td id=\"T_d8aad_row5_col0\" class=\"data row5 col0\" >{'M', 'K'}</td>\n",
              "      <td id=\"T_d8aad_row5_col1\" class=\"data row5 col1\" >3</td>\n",
              "    </tr>\n",
              "    <tr>\n",
              "      <th id=\"T_d8aad_level0_row6\" class=\"row_heading level0 row6\" >6</th>\n",
              "      <td id=\"T_d8aad_row6_col0\" class=\"data row6 col0\" >{'K', 'O'}</td>\n",
              "      <td id=\"T_d8aad_row6_col1\" class=\"data row6 col1\" >3</td>\n",
              "    </tr>\n",
              "    <tr>\n",
              "      <th id=\"T_d8aad_level0_row7\" class=\"row_heading level0 row7\" >7</th>\n",
              "      <td id=\"T_d8aad_row7_col0\" class=\"data row7 col0\" >{'E', 'O'}</td>\n",
              "      <td id=\"T_d8aad_row7_col1\" class=\"data row7 col1\" >3</td>\n",
              "    </tr>\n",
              "    <tr>\n",
              "      <th id=\"T_d8aad_level0_row8\" class=\"row_heading level0 row8\" >8</th>\n",
              "      <td id=\"T_d8aad_row8_col0\" class=\"data row8 col0\" >{'K', 'E'}</td>\n",
              "      <td id=\"T_d8aad_row8_col1\" class=\"data row8 col1\" >4</td>\n",
              "    </tr>\n",
              "    <tr>\n",
              "      <th id=\"T_d8aad_level0_row9\" class=\"row_heading level0 row9\" >9</th>\n",
              "      <td id=\"T_d8aad_row9_col0\" class=\"data row9 col0\" >{'K', 'Y'}</td>\n",
              "      <td id=\"T_d8aad_row9_col1\" class=\"data row9 col1\" >3</td>\n",
              "    </tr>\n",
              "    <tr>\n",
              "      <th id=\"T_d8aad_level0_row10\" class=\"row_heading level0 row10\" >10</th>\n",
              "      <td id=\"T_d8aad_row10_col0\" class=\"data row10 col0\" >{'E', 'K', 'O'}</td>\n",
              "      <td id=\"T_d8aad_row10_col1\" class=\"data row10 col1\" >3</td>\n",
              "    </tr>\n",
              "  </tbody>\n",
              "</table>\n"
            ]
          },
          "metadata": {},
          "execution_count": 21
        }
      ]
    }
  ]
}